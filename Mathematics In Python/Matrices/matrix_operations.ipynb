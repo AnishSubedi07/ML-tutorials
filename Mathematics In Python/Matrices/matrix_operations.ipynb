{
 "cells": [
  {
   "cell_type": "markdown",
   "metadata": {},
   "source": [
    "# Importing Dependencies"
   ]
  },
  {
   "cell_type": "code",
   "execution_count": 1,
   "metadata": {},
   "outputs": [],
   "source": [
    "import numpy as np"
   ]
  },
  {
   "cell_type": "markdown",
   "metadata": {},
   "source": [
    "# Matrix Basics"
   ]
  },
  {
   "cell_type": "markdown",
   "metadata": {},
   "source": [
    "## Creating a Matrix using numpy"
   ]
  },
  {
   "cell_type": "code",
   "execution_count": 4,
   "metadata": {},
   "outputs": [
    {
     "name": "stdout",
     "output_type": "stream",
     "text": [
      "[[2 3]\n",
      " [6 7]]\n"
     ]
    }
   ],
   "source": [
    "matrix_1 = np.array([[2,3],[6,7]])\n",
    "print(matrix_1)"
   ]
  },
  {
   "cell_type": "code",
   "execution_count": 5,
   "metadata": {},
   "outputs": [
    {
     "data": {
      "text/plain": [
       "(2, 2)"
      ]
     },
     "execution_count": 5,
     "metadata": {},
     "output_type": "execute_result"
    }
   ],
   "source": [
    "matrix_1.shape"
   ]
  },
  {
   "cell_type": "markdown",
   "metadata": {},
   "source": [
    "## Creating matrices with random values"
   ]
  },
  {
   "cell_type": "code",
   "execution_count": 9,
   "metadata": {},
   "outputs": [
    {
     "name": "stdout",
     "output_type": "stream",
     "text": [
      "[[0.20193121 0.88031406 0.91781157 0.86461952]\n",
      " [0.11988868 0.75767551 0.26862993 0.67257266]\n",
      " [0.83037217 0.52726572 0.3201431  0.79657335]\n",
      " [0.32947722 0.47618547 0.30308541 0.78423531]]\n"
     ]
    }
   ],
   "source": [
    "matrix_3 = np.random.rand(4,4)\n",
    "print(matrix_3)"
   ]
  },
  {
   "cell_type": "markdown",
   "metadata": {},
   "source": [
    "## Creating matrices with random integers"
   ]
  },
  {
   "cell_type": "code",
   "execution_count": 10,
   "metadata": {},
   "outputs": [
    {
     "name": "stdout",
     "output_type": "stream",
     "text": [
      "[[8 5 4 6]\n",
      " [6 3 9 7]\n",
      " [3 9 2 5]\n",
      " [3 7 8 9]]\n"
     ]
    }
   ],
   "source": [
    "random_integer_matrix = np.random.randint(10,size=(4,4))\n",
    "print(random_integer_matrix)"
   ]
  },
  {
   "cell_type": "markdown",
   "metadata": {},
   "source": [
    "## Matrix with all values 1"
   ]
  },
  {
   "cell_type": "code",
   "execution_count": 12,
   "metadata": {},
   "outputs": [
    {
     "name": "stdout",
     "output_type": "stream",
     "text": [
      "[[1. 1. 1. 1. 1.]\n",
      " [1. 1. 1. 1. 1.]\n",
      " [1. 1. 1. 1. 1.]\n",
      " [1. 1. 1. 1. 1.]]\n"
     ]
    }
   ],
   "source": [
    "matrix_4 = np.ones((4,5))\n",
    "print(matrix_4)"
   ]
  },
  {
   "cell_type": "code",
   "execution_count": 13,
   "metadata": {},
   "outputs": [
    {
     "name": "stdout",
     "output_type": "stream",
     "text": [
      "[[1 1 1 1 1]\n",
      " [1 1 1 1 1]\n",
      " [1 1 1 1 1]\n",
      " [1 1 1 1 1]]\n"
     ]
    }
   ],
   "source": [
    "# in integer\n",
    "matrix_4 = np.ones((4,5), dtype=int)\n",
    "print(matrix_4)"
   ]
  },
  {
   "cell_type": "markdown",
   "metadata": {},
   "source": [
    "## Matrix with all values as 0 (Null Matrix)"
   ]
  },
  {
   "cell_type": "code",
   "execution_count": 14,
   "metadata": {},
   "outputs": [
    {
     "name": "stdout",
     "output_type": "stream",
     "text": [
      "[[0 0 0 0 0]\n",
      " [0 0 0 0 0]\n",
      " [0 0 0 0 0]\n",
      " [0 0 0 0 0]]\n"
     ]
    }
   ],
   "source": [
    "null_matrix = np.zeros((4,5), dtype=int)\n",
    "print(null_matrix)"
   ]
  },
  {
   "cell_type": "markdown",
   "metadata": {},
   "source": [
    "## Creating a Identity Matrix"
   ]
  },
  {
   "cell_type": "code",
   "execution_count": 17,
   "metadata": {},
   "outputs": [
    {
     "name": "stdout",
     "output_type": "stream",
     "text": [
      "[[1 0 0 0 0]\n",
      " [0 1 0 0 0]\n",
      " [0 0 1 0 0]\n",
      " [0 0 0 1 0]\n",
      " [0 0 0 0 1]]\n"
     ]
    }
   ],
   "source": [
    "identity_matrix = np.eye(5,5,dtype=int)\n",
    "print(identity_matrix)"
   ]
  },
  {
   "cell_type": "markdown",
   "metadata": {},
   "source": [
    "## Transpose of a matrix"
   ]
  },
  {
   "cell_type": "code",
   "execution_count": 21,
   "metadata": {},
   "outputs": [
    {
     "name": "stdout",
     "output_type": "stream",
     "text": [
      "[[1 2 3]\n",
      " [4 5 6]\n",
      " [7 8 9]]\n",
      "\n",
      "[[1 4 7]\n",
      " [2 5 8]\n",
      " [3 6 9]]\n"
     ]
    }
   ],
   "source": [
    "matrix = np.array([[1,2,3],[4,5,6],[7,8,9]])\n",
    "print(matrix)\n",
    "\n",
    "#transposing\n",
    "transpose_matrix = matrix.T\n",
    "print()\n",
    "print(transpose_matrix)\n",
    "\n",
    "# #Or\n",
    "# transpose_matrix = np.transpose(matrix)\n",
    "# print(transpose_matrix)"
   ]
  },
  {
   "cell_type": "markdown",
   "metadata": {},
   "source": [
    "# Various Matrix Operations\n",
    "1. Addition\n",
    "2. Subtraction\n",
    "3. Multiplication"
   ]
  },
  {
   "cell_type": "markdown",
   "metadata": {},
   "source": [
    "## Matrix Addition"
   ]
  },
  {
   "cell_type": "code",
   "execution_count": 26,
   "metadata": {},
   "outputs": [
    {
     "name": "stdout",
     "output_type": "stream",
     "text": [
      "[[5 9 2]\n",
      " [5 9 4]\n",
      " [8 4 1]]\n",
      "\n",
      "[[6 4 4]\n",
      " [4 4 2]\n",
      " [7 7 8]]\n"
     ]
    }
   ],
   "source": [
    "# creating two matrices\n",
    "mat_a = np.random.randint(10,size=(3,3))\n",
    "print(mat_a)\n",
    "\n",
    "print()\n",
    "mat_b = np.random.randint(10,size=(3,3))\n",
    "print(mat_b)"
   ]
  },
  {
   "cell_type": "code",
   "execution_count": 27,
   "metadata": {},
   "outputs": [
    {
     "name": "stdout",
     "output_type": "stream",
     "text": [
      "[[11 13  6]\n",
      " [ 9 13  6]\n",
      " [15 11  9]]\n"
     ]
    }
   ],
   "source": [
    "mat_add = mat_a + mat_b\n",
    "print(mat_add)"
   ]
  },
  {
   "cell_type": "code",
   "execution_count": 28,
   "metadata": {},
   "outputs": [
    {
     "name": "stdout",
     "output_type": "stream",
     "text": [
      "[[11 13  6]\n",
      " [ 9 13  6]\n",
      " [15 11  9]]\n"
     ]
    }
   ],
   "source": [
    "# alternative way\n",
    "mat_add_np = np.add(mat_a, mat_b)\n",
    "print(mat_add_np)"
   ]
  },
  {
   "cell_type": "markdown",
   "metadata": {},
   "source": [
    "## Subtraction of two matrices"
   ]
  },
  {
   "cell_type": "code",
   "execution_count": 29,
   "metadata": {},
   "outputs": [
    {
     "name": "stdout",
     "output_type": "stream",
     "text": [
      "[[-1  5 -2]\n",
      " [ 1  5  2]\n",
      " [ 1 -3 -7]]\n"
     ]
    }
   ],
   "source": [
    "mat_sub = mat_a - mat_b\n",
    "print(mat_sub)"
   ]
  },
  {
   "cell_type": "code",
   "execution_count": 30,
   "metadata": {},
   "outputs": [
    {
     "name": "stdout",
     "output_type": "stream",
     "text": [
      "[[-1  5 -2]\n",
      " [ 1  5  2]\n",
      " [ 1 -3 -7]]\n"
     ]
    }
   ],
   "source": [
    "# alternative way\n",
    "mat_sub_np = np.subtract(mat_a, mat_b)\n",
    "print(mat_sub_np)"
   ]
  },
  {
   "cell_type": "markdown",
   "metadata": {},
   "source": [
    "## Multiplication of a matrix by scalar"
   ]
  },
  {
   "cell_type": "code",
   "execution_count": 36,
   "metadata": {},
   "outputs": [
    {
     "name": "stdout",
     "output_type": "stream",
     "text": [
      "[[25 45 10]\n",
      " [25 45 20]\n",
      " [40 20  5]]\n"
     ]
    }
   ],
   "source": [
    "x = 5\n",
    "multiply_by_scalar = np.multiply(x, mat_a)\n",
    "print(multiply_by_scalar)"
   ]
  },
  {
   "cell_type": "markdown",
   "metadata": {},
   "source": [
    "## Multiplication of two matrices"
   ]
  },
  {
   "cell_type": "code",
   "execution_count": 32,
   "metadata": {},
   "outputs": [
    {
     "name": "stdout",
     "output_type": "stream",
     "text": [
      "[[5 9 2]\n",
      " [5 9 4]\n",
      " [8 4 1]]\n",
      "\n",
      "[[6 4 4]\n",
      " [4 4 2]\n",
      " [7 7 8]]\n"
     ]
    }
   ],
   "source": [
    "print(mat_a)\n",
    "print()\n",
    "print(mat_b)"
   ]
  },
  {
   "cell_type": "code",
   "execution_count": 34,
   "metadata": {},
   "outputs": [
    {
     "name": "stdout",
     "output_type": "stream",
     "text": [
      "[[80 70 54]\n",
      " [94 84 70]\n",
      " [71 55 48]]\n"
     ]
    }
   ],
   "source": [
    "mat_multiply = np.matmul(mat_a,mat_b)\n",
    "print(mat_multiply)"
   ]
  },
  {
   "cell_type": "code",
   "execution_count": 37,
   "metadata": {},
   "outputs": [
    {
     "name": "stdout",
     "output_type": "stream",
     "text": [
      "[[80 70 54]\n",
      " [94 84 70]\n",
      " [71 55 48]]\n"
     ]
    }
   ],
   "source": [
    "# alternatively\n",
    "mat_multiply1 = np.dot(mat_a,mat_b)\n",
    "print(mat_multiply1)"
   ]
  },
  {
   "cell_type": "markdown",
   "metadata": {},
   "source": [
    "## Element wise multiplication"
   ]
  },
  {
   "cell_type": "code",
   "execution_count": 38,
   "metadata": {},
   "outputs": [
    {
     "name": "stdout",
     "output_type": "stream",
     "text": [
      "[[5 9 2]\n",
      " [5 9 4]\n",
      " [8 4 1]]\n",
      "\n",
      "[[6 4 4]\n",
      " [4 4 2]\n",
      " [7 7 8]]\n"
     ]
    }
   ],
   "source": [
    "print(mat_a)\n",
    "print()\n",
    "print(mat_b)"
   ]
  },
  {
   "cell_type": "code",
   "execution_count": 39,
   "metadata": {},
   "outputs": [
    {
     "name": "stdout",
     "output_type": "stream",
     "text": [
      "[[30 36  8]\n",
      " [20 36  8]\n",
      " [56 28  8]]\n"
     ]
    }
   ],
   "source": [
    "mat_multiply = np.multiply(mat_a,mat_b)\n",
    "print(mat_multiply)"
   ]
  }
 ],
 "metadata": {
  "kernelspec": {
   "display_name": "Python 3",
   "language": "python",
   "name": "python3"
  },
  "language_info": {
   "codemirror_mode": {
    "name": "ipython",
    "version": 3
   },
   "file_extension": ".py",
   "mimetype": "text/x-python",
   "name": "python",
   "nbconvert_exporter": "python",
   "pygments_lexer": "ipython3",
   "version": "3.12.0"
  }
 },
 "nbformat": 4,
 "nbformat_minor": 2
}
